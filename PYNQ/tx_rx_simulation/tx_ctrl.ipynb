{
 "cells": [
  {
   "cell_type": "code",
   "execution_count": 1,
   "id": "d71d3b8a-1381-4394-86f7-4445f4c296fc",
   "metadata": {},
   "outputs": [
    {
     "name": "stderr",
     "output_type": "stream",
     "text": [
      "/root/venv/lib/python3.8/site-packages/pynq/pl_server/xrt_device.py:59: UserWarning: xbutil failed to run - unable to determine XRT version\n",
      "  warnings.warn(\"xbutil failed to run - unable to determine XRT version\")\n"
     ]
    },
    {
     "data": {
      "application/javascript": "\ntry {\nrequire(['notebook/js/codecell'], function(codecell) {\n  codecell.CodeCell.options_default.highlight_modes[\n      'magic_text/x-csrc'] = {'reg':[/^%%microblaze/]};\n  Jupyter.notebook.events.one('kernel_ready.Kernel', function(){\n      Jupyter.notebook.get_cells().map(function(cell){\n          if (cell.cell_type == 'code'){ cell.auto_highlight(); } }) ;\n  });\n});\n} catch (e) {};\n"
     },
     "metadata": {},
     "output_type": "display_data"
    },
    {
     "data": {
      "application/javascript": "\ntry {\nrequire(['notebook/js/codecell'], function(codecell) {\n  codecell.CodeCell.options_default.highlight_modes[\n      'magic_text/x-csrc'] = {'reg':[/^%%pybind11/]};\n  Jupyter.notebook.events.one('kernel_ready.Kernel', function(){\n      Jupyter.notebook.get_cells().map(function(cell){\n          if (cell.cell_type == 'code'){ cell.auto_highlight(); } }) ;\n  });\n});\n} catch (e) {};\n"
     },
     "metadata": {},
     "output_type": "display_data"
    }
   ],
   "source": [
    "from pynq import Overlay\n",
    "# load overlay from bitstream\n",
    "ovl = Overlay(\"tx_ctrl.bit\")"
   ]
  },
  {
   "cell_type": "code",
   "execution_count": null,
   "id": "7472a20e-d3eb-4f4e-aeb0-78317e0d53d1",
   "metadata": {},
   "outputs": [],
   "source": [
    "# peak overlay info\n",
    "ovl.ip_dict"
   ]
  },
  {
   "cell_type": "code",
   "execution_count": 3,
   "id": "86aa4a9e-e768-42af-b0c0-794d20e20ddc",
   "metadata": {},
   "outputs": [],
   "source": [
    "# aliasing kernel\n",
    "tx_krnl = ovl.tx_ctrl_0"
   ]
  },
  {
   "cell_type": "code",
   "execution_count": 4,
   "id": "690474b6-f55a-484c-9f95-95e3c809f0ae",
   "metadata": {},
   "outputs": [
    {
     "data": {
      "text/plain": [
       "RegisterMap {\n",
       "  CTRL = Register(AP_START=0, AP_DONE=0, AP_IDLE=1, AP_READY=0, AP_CONTINUE=0, RESERVED_1=0, AUTO_RESTART=0, RESERVED_2=0, INTERRUPT=0, RESERVED_3=0),\n",
       "  GIER = Register(Enable=0, RESERVED=0),\n",
       "  IP_IER = Register(CHAN0_INT_EN=0, CHAN1_INT_EN=0, RESERVED_0=0),\n",
       "  IP_ISR = Register(CHAN0_INT_ST=0, CHAN1_INT_ST=0, RESERVED_0=0),\n",
       "  local_copy_1 = Register(local_copy=write-only),\n",
       "  local_copy_2 = Register(local_copy=write-only)\n",
       "}"
      ]
     },
     "execution_count": 4,
     "metadata": {},
     "output_type": "execute_result"
    }
   ],
   "source": [
    "# checkout control signals\n",
    "tx_krnl.register_map"
   ]
  },
  {
   "cell_type": "code",
   "execution_count": 5,
   "id": "cbadf06f-34ad-406c-9486-a47f0cf5cdf5",
   "metadata": {},
   "outputs": [],
   "source": [
    "# prepare control buffer\n",
    "from pynq import allocate\n",
    "import numpy as np\n",
    "\n",
    "local_size = 1100\n",
    "local_buffer = allocate(shape=(local_size,), dtype=np.int32)"
   ]
  },
  {
   "cell_type": "code",
   "execution_count": 6,
   "id": "0638c587-aa1a-4eac-bb74-01c894d4df61",
   "metadata": {},
   "outputs": [],
   "source": [
    "# set address for hls kernel\n",
    "local_buffer_addr = local_buffer.physical_address\n",
    "tx_krnl.write(0x10, local_buffer_addr)"
   ]
  },
  {
   "cell_type": "code",
   "execution_count": 7,
   "id": "c3ac7cb5-0871-44ea-ae33-851fff45d3aa",
   "metadata": {},
   "outputs": [],
   "source": [
    "# call kernel by writing to control register\n",
    "CONTROL_REGISTER = 0x00\n",
    "tx_krnl.write(CONTROL_REGISTER, 1)"
   ]
  },
  {
   "cell_type": "code",
   "execution_count": 8,
   "id": "54fc97a4-be41-4e0e-b0a9-fb38c3c148e4",
   "metadata": {},
   "outputs": [
    {
     "data": {
      "text/plain": [
       "RegisterMap {\n",
       "  CTRL = Register(AP_START=0, AP_DONE=1, AP_IDLE=1, AP_READY=0, AP_CONTINUE=0, RESERVED_1=0, AUTO_RESTART=0, RESERVED_2=0, INTERRUPT=0, RESERVED_3=0),\n",
       "  GIER = Register(Enable=0, RESERVED=0),\n",
       "  IP_IER = Register(CHAN0_INT_EN=0, CHAN1_INT_EN=0, RESERVED_0=0),\n",
       "  IP_ISR = Register(CHAN0_INT_ST=0, CHAN1_INT_ST=0, RESERVED_0=0),\n",
       "  local_copy_1 = Register(local_copy=write-only),\n",
       "  local_copy_2 = Register(local_copy=write-only)\n",
       "}"
      ]
     },
     "execution_count": 8,
     "metadata": {},
     "output_type": "execute_result"
    }
   ],
   "source": [
    "# checkout control signals\n",
    "tx_krnl.register_map"
   ]
  },
  {
   "cell_type": "code",
   "execution_count": 9,
   "id": "f9ba5961-40fd-43f3-82c5-5cc0f505efa8",
   "metadata": {},
   "outputs": [
    {
     "name": "stdout",
     "output_type": "stream",
     "text": [
      "500\n"
     ]
    }
   ],
   "source": [
    "sum = 0\n",
    "for i in range(1000):\n",
    "    sum += local_buffer[i]\n",
    "print(sum)\n",
    "    "
   ]
  },
  {
   "cell_type": "code",
   "execution_count": null,
   "id": "b9f8de8e-5817-460d-9bb0-5a278e39fe41",
   "metadata": {},
   "outputs": [],
   "source": [
    "for i in range(100):\n",
    "    print(local_buffer[i])"
   ]
  },
  {
   "cell_type": "code",
   "execution_count": null,
   "id": "44ed569a-610b-415d-8600-826c4ff64aad",
   "metadata": {},
   "outputs": [],
   "source": [
    "for i in range(100):\n",
    "    print(local_buffer[1000-i])"
   ]
  },
  {
   "cell_type": "code",
   "execution_count": null,
   "id": "d16efb06-8f77-4074-aa96-e5d7d909ee05",
   "metadata": {},
   "outputs": [],
   "source": []
  }
 ],
 "metadata": {
  "kernelspec": {
   "display_name": "Python 3 (ipykernel)",
   "language": "python",
   "name": "python3"
  },
  "language_info": {
   "codemirror_mode": {
    "name": "ipython",
    "version": 3
   },
   "file_extension": ".py",
   "mimetype": "text/x-python",
   "name": "python",
   "nbconvert_exporter": "python",
   "pygments_lexer": "ipython3",
   "version": "3.8.10"
  }
 },
 "nbformat": 4,
 "nbformat_minor": 5
}
