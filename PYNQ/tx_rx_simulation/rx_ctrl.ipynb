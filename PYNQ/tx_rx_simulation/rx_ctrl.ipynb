{
 "cells": [
  {
   "cell_type": "code",
   "execution_count": 1,
   "id": "b3b64f84-e162-4570-8ac5-0d3340768fbf",
   "metadata": {},
   "outputs": [
    {
     "name": "stderr",
     "output_type": "stream",
     "text": [
      "/root/venv/lib/python3.8/site-packages/pynq/pl_server/xrt_device.py:59: UserWarning: xbutil failed to run - unable to determine XRT version\n",
      "  warnings.warn(\"xbutil failed to run - unable to determine XRT version\")\n"
     ]
    },
    {
     "data": {
      "application/javascript": "\ntry {\nrequire(['notebook/js/codecell'], function(codecell) {\n  codecell.CodeCell.options_default.highlight_modes[\n      'magic_text/x-csrc'] = {'reg':[/^%%microblaze/]};\n  Jupyter.notebook.events.one('kernel_ready.Kernel', function(){\n      Jupyter.notebook.get_cells().map(function(cell){\n          if (cell.cell_type == 'code'){ cell.auto_highlight(); } }) ;\n  });\n});\n} catch (e) {};\n"
     },
     "metadata": {},
     "output_type": "display_data"
    },
    {
     "data": {
      "application/javascript": "\ntry {\nrequire(['notebook/js/codecell'], function(codecell) {\n  codecell.CodeCell.options_default.highlight_modes[\n      'magic_text/x-csrc'] = {'reg':[/^%%pybind11/]};\n  Jupyter.notebook.events.one('kernel_ready.Kernel', function(){\n      Jupyter.notebook.get_cells().map(function(cell){\n          if (cell.cell_type == 'code'){ cell.auto_highlight(); } }) ;\n  });\n});\n} catch (e) {};\n"
     },
     "metadata": {},
     "output_type": "display_data"
    }
   ],
   "source": [
    "from pynq import Overlay\n",
    "# load overlay from bitstream\n",
    "ovl = Overlay(\"rx_ctrl.bit\")"
   ]
  },
  {
   "cell_type": "code",
   "execution_count": null,
   "id": "e9c226eb-fbdd-4586-8c5e-219481c8301a",
   "metadata": {},
   "outputs": [],
   "source": [
    "# peak overlay info\n",
    "ovl.ip_dict"
   ]
  },
  {
   "cell_type": "code",
   "execution_count": 3,
   "id": "8051d2f8-a5b4-48ed-961e-2c8683d48eea",
   "metadata": {},
   "outputs": [],
   "source": [
    "# aliasing kernel\n",
    "rx_krnl = ovl.rx_ctrl_0"
   ]
  },
  {
   "cell_type": "code",
   "execution_count": 4,
   "id": "41efd859-d2a2-4c05-b6f7-302638575f88",
   "metadata": {},
   "outputs": [
    {
     "data": {
      "text/plain": [
       "RegisterMap {\n",
       "  CTRL = Register(AP_START=0, AP_DONE=0, AP_IDLE=1, AP_READY=0, AP_CONTINUE=0, RESERVED_1=0, AUTO_RESTART=0, RESERVED_2=0, INTERRUPT=0, RESERVED_3=0),\n",
       "  GIER = Register(Enable=0, RESERVED=0),\n",
       "  IP_IER = Register(CHAN0_INT_EN=0, CHAN1_INT_EN=0, RESERVED_0=0),\n",
       "  IP_ISR = Register(CHAN0_INT_ST=0, CHAN1_INT_ST=0, RESERVED_0=0),\n",
       "  store_DRAM_1 = Register(store_DRAM=write-only),\n",
       "  store_DRAM_2 = Register(store_DRAM=write-only)\n",
       "}"
      ]
     },
     "execution_count": 4,
     "metadata": {},
     "output_type": "execute_result"
    }
   ],
   "source": [
    "# checkout control signals\n",
    "rx_krnl.register_map"
   ]
  },
  {
   "cell_type": "code",
   "execution_count": 5,
   "id": "29c81380-1bc1-4061-a41f-cb283dc3ec46",
   "metadata": {},
   "outputs": [],
   "source": [
    "# prepare output buffer\n",
    "from pynq import allocate\n",
    "import numpy as np\n",
    "\n",
    "output_size = 1100\n",
    "output_buffer = allocate(shape=(output_size,), dtype=np.int32)"
   ]
  },
  {
   "cell_type": "code",
   "execution_count": 6,
   "id": "90054ed9-56ff-4c4a-8d64-484c20a34ed5",
   "metadata": {},
   "outputs": [],
   "source": [
    "# set address for hls kernel\n",
    "output_buffer_addr = output_buffer.physical_address\n",
    "rx_krnl.write(0x10, output_buffer_addr)"
   ]
  },
  {
   "cell_type": "code",
   "execution_count": 7,
   "id": "8e6c48ff-08ba-4ef4-a0c4-e2f381782118",
   "metadata": {},
   "outputs": [],
   "source": [
    "# call kernel by writing to control register\n",
    "CONTROL_REGISTER = 0x00\n",
    "rx_krnl.write(CONTROL_REGISTER, 1) # 0x81 will set bit 0"
   ]
  },
  {
   "cell_type": "code",
   "execution_count": 9,
   "id": "120fbcc1-b859-4be9-96e9-a93b7295d0f8",
   "metadata": {},
   "outputs": [
    {
     "data": {
      "text/plain": [
       "RegisterMap {\n",
       "  CTRL = Register(AP_START=0, AP_DONE=1, AP_IDLE=1, AP_READY=0, AP_CONTINUE=0, RESERVED_1=0, AUTO_RESTART=0, RESERVED_2=0, INTERRUPT=0, RESERVED_3=0),\n",
       "  GIER = Register(Enable=0, RESERVED=0),\n",
       "  IP_IER = Register(CHAN0_INT_EN=0, CHAN1_INT_EN=0, RESERVED_0=0),\n",
       "  IP_ISR = Register(CHAN0_INT_ST=0, CHAN1_INT_ST=0, RESERVED_0=0),\n",
       "  store_DRAM_1 = Register(store_DRAM=write-only),\n",
       "  store_DRAM_2 = Register(store_DRAM=write-only)\n",
       "}"
      ]
     },
     "execution_count": 9,
     "metadata": {},
     "output_type": "execute_result"
    }
   ],
   "source": [
    "# checkout control signals\n",
    "rx_krnl.register_map"
   ]
  },
  {
   "cell_type": "code",
   "execution_count": 10,
   "id": "0b4e36e2-614f-42bd-bc68-1b5359828eb6",
   "metadata": {},
   "outputs": [
    {
     "name": "stdout",
     "output_type": "stream",
     "text": [
      "500\n"
     ]
    }
   ],
   "source": [
    "sum=0\n",
    "for i in range(1000):\n",
    "    # print(output_buffer[i])\n",
    "    sum+=output_buffer[i]\n",
    "print(sum)"
   ]
  },
  {
   "cell_type": "code",
   "execution_count": 11,
   "id": "1582b5e1-4572-4777-866d-55edfaf8e9d6",
   "metadata": {},
   "outputs": [
    {
     "data": {
      "text/plain": [
       "RegisterMap {\n",
       "  CTRL = Register(AP_START=0, AP_DONE=1, AP_IDLE=1, AP_READY=0, AP_CONTINUE=0, RESERVED_1=0, AUTO_RESTART=0, RESERVED_2=0, INTERRUPT=0, RESERVED_3=0),\n",
       "  GIER = Register(Enable=0, RESERVED=0),\n",
       "  IP_IER = Register(CHAN0_INT_EN=0, CHAN1_INT_EN=0, RESERVED_0=0),\n",
       "  IP_ISR = Register(CHAN0_INT_ST=0, CHAN1_INT_ST=0, RESERVED_0=0),\n",
       "  store_DRAM_1 = Register(store_DRAM=write-only),\n",
       "  store_DRAM_2 = Register(store_DRAM=write-only)\n",
       "}"
      ]
     },
     "execution_count": 11,
     "metadata": {},
     "output_type": "execute_result"
    }
   ],
   "source": [
    "# checkout control signals\n",
    "rx_krnl.register_map"
   ]
  },
  {
   "cell_type": "code",
   "execution_count": 12,
   "id": "91eb9753-3055-431f-8163-63a56e1feaa3",
   "metadata": {},
   "outputs": [],
   "source": [
    "for i in range(999):\n",
    "    if output_buffer[i+1] - output_buffer[i] != -1:\n",
    "        print(\"mismatch: {}, {} at {}\".format(output_buffer[i+1], output_buffer[i], i))"
   ]
  },
  {
   "cell_type": "code",
   "execution_count": null,
   "id": "fc5990f5-97aa-48b1-bb46-caac55cbe507",
   "metadata": {},
   "outputs": [],
   "source": [
    "for i in range(1000):\n",
    "    print(output_buffer[i])"
   ]
  },
  {
   "cell_type": "code",
   "execution_count": null,
   "id": "4d47d494-02e0-4f3a-aad4-ca4c2ea24311",
   "metadata": {},
   "outputs": [],
   "source": []
  }
 ],
 "metadata": {
  "kernelspec": {
   "display_name": "Python 3",
   "language": "python",
   "name": "python3"
  },
  "language_info": {
   "codemirror_mode": {
    "name": "ipython",
    "version": 3
   },
   "file_extension": ".py",
   "mimetype": "text/x-python",
   "name": "python",
   "nbconvert_exporter": "python",
   "pygments_lexer": "ipython3",
   "version": "3.11.0"
  },
  "vscode": {
   "interpreter": {
    "hash": "c261aea317cc0286b3b3261fbba9abdec21eaa57589985bb7a274bf54d6cc0a7"
   }
  }
 },
 "nbformat": 4,
 "nbformat_minor": 5
}
